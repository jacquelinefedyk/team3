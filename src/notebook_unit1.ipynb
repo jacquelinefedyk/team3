{
 "cells": [
  {
   "cell_type": "markdown",
   "metadata": {},
   "source": [
    "**Sustainable Software Development, block course, March 2021**  \n",
    "*Scientific Software Center, Institute for Scientific Computing, Dr. Inga Ulusoy*\n",
    "\n",
    "# Analysis of the data\n",
    "\n",
    "Imagine you perform a \"measurement\" of some type and obtain \"scientific data\". You know what your data represents, but you have only a vague idea how different features in the data are connected, and what information you can extract from the data.\n",
    "\n",
    "You would start first with going through the data, making sure your data set is complete and that the result is reasonable. Imagine this already happened.\n",
    "\n",
    "In the next step, you would inspect your data more closely and try to identify structures. That is the step that we are focusing on in this unit.\n",
    "\n",
    "In the `data` folder, you will find several data files (`*.t` and `*.dat`). These are data files generated through some \"new approach\" that hasn't been used in your lab before. No previous analysis software exists, and you are going to establish a protocol for this \"new approach\" and \"publish your results\".\n",
    "\n",
    "The data can be grouped into two categories: \n",
    "1. data to be analyzed using statistical methods;\n",
    "2. data to be analyzed using numerical methods.\n",
    "\n",
    "In your hypothetical lab, you are an \"expert\" in one particular \"method\", and your co-worker is an \"expert\" in the other. Combined these two methods will lead to much more impactful results than if only one of you analyzed the data. Now, the task in this course is to be solved collaboratively with your team member working on one of the analysis approaches, and you working on the other. You will both implement functionality into the same piece of \"software\", but do so collaboratively through git.\n",
    "\n",
    "As you do not know yet which analysis is most meaningful for your data, and how to implement it, you will start with a jupyter notebook. You and your team member will work on the same notebook that will be part of a github repository for your project. This is the task for today. Discuss with your team members who will work on the statistical and who on the numerical analysis."
   ]
  },
  {
   "cell_type": "markdown",
   "metadata": {},
   "source": [
    "## Step 1\n",
    "\n",
    "Generate a github repository with the relevant files."
   ]
  },
  {
   "cell_type": "markdown",
   "metadata": {},
   "source": [
    "## Step 2\n",
    "\n",
    "Clone the repository to your local machine."
   ]
  },
  {
   "cell_type": "markdown",
   "metadata": {},
   "source": [
    "## Step 3\n",
    "\n",
    "Start working on task 1 for your analysis approach. "
   ]
  },
  {
   "cell_type": "markdown",
   "metadata": {},
   "source": [
    "## Step 4\n",
    "\n",
    "Create your own branch of the repository and commit your changes to your branch; push to the remote repository."
   ]
  },
  {
   "cell_type": "markdown",
   "metadata": {},
   "source": [
    "## Step 5\n",
    "\n",
    "Open a `pull request` so your team member can review your implementation. Likewise, your team member will ask you to review theirs."
   ]
  },
  {
   "cell_type": "markdown",
   "metadata": {},
   "source": [
    "## Step 6\n",
    "\n",
    "Merge the changes in your branch into `main`. Resolve conflicts."
   ]
  },
  {
   "cell_type": "markdown",
   "metadata": {},
   "source": [
    "## Step 7\n",
    "\n",
    "Repeat working on task; committing and pushing to your previously generated branch or a new branch; open a pull request; merge with main; until you have finished all the tasks in your analysis approach. Delete obsolete branches."
   ]
  },
  {
   "cell_type": "markdown",
   "metadata": {},
   "source": [
    "# Start of the analysis notebook\n",
    "\n",
    "**Author : Your Name**  \n",
    "*Date : The date you started working on this*  \n",
    "*Affiliation : The entity under whose name you are working on this*  \n",
    "\n",
    "Place the required modules in the top, followed by required constants and global functions."
   ]
  },
  {
   "cell_type": "code",
   "execution_count": null,
   "metadata": {},
   "outputs": [],
   "source": [
    "# required modules"
   ]
  },
  {
   "cell_type": "code",
   "execution_count": null,
   "metadata": {},
   "outputs": [],
   "source": [
    "# constants and global functions"
   ]
  },
  {
   "cell_type": "code",
   "execution_count": null,
   "metadata": {},
   "outputs": [],
   "source": [
    "# reading of the data files"
   ]
  },
  {
   "cell_type": "markdown",
   "metadata": {},
   "source": [
    "# Statistical analysis\n",
    "\n",
    "Find correlations in the data sets. Analyse the data statistically and plot your results.  \n",
    "\n",
    "Here we would want to do everything with pandas and leave the data in a dataframe. The files that are relevant to you are `expect.t`, `npop.t` and `table.dat`."
   ]
  },
  {
   "cell_type": "code",
   "execution_count": null,
   "metadata": {},
   "outputs": [],
   "source": [
    "import numpy as np\n",
    "import os\n",
    "from matplotlib import pyplot as plt\n",
    "from scipy.linalg import lapack\n",
    "import pandas as pd\n",
    "import seaborn as sns"
   ]
  },
  {
   "cell_type": "markdown",
   "metadata": {},
   "source": [
    "### Task 1: Read in expec.t and plot relevant data"
   ]
  },
  {
   "cell_type": "code",
   "execution_count": null,
   "metadata": {},
   "outputs": [],
   "source": [
    "# read and plot expec.t\n",
    "\n",
    "dir = '/tmpa/jacqueline/team3/data' \n",
    "path_expect = os.path.join(dir, 'expec.t')\n",
    "df_expect = pd.read_table(path_expect,header=None,delim_whitespace=True,skiprows=1,names=['time','norm','<x>','<y>','<z>','<H>'])\n",
    "\n",
    "print(df_expect)"
   ]
  },
  {
   "cell_type": "markdown",
   "metadata": {},
   "source": [
    "We can discard the entries norm, \\<x>, and \\<y> as these are mostly constant."
   ]
  },
  {
   "cell_type": "code",
   "execution_count": null,
   "metadata": {},
   "outputs": [],
   "source": [
    "# eliminate columns based on the variance: if the variance of the values\n",
    "# in a column is below a given threshold, that column is discarded\n",
    "\n",
    "df_expect = df_expect.drop(columns=['<x>','<y>'])\n",
    "print(df_expect)"
   ]
  },
  {
   "cell_type": "markdown",
   "metadata": {},
   "source": [
    "### Task 2: Create plots of the relevant data and save as .pdf."
   ]
  },
  {
   "cell_type": "code",
   "execution_count": null,
   "metadata": {},
   "outputs": [],
   "source": [
    "# create plots\n",
    "\n",
    "time_string = df_expect[[\"time\"]].to_numpy() #array of strings\n",
    "time = time_string.astype(float) #array of floats\n",
    "\n",
    "z_string = df_expect[[\"<z>\"]].to_numpy() #array of strings\n",
    "z = z_string.astype(float) #array of floats\n",
    "\n",
    "H_string = df_expect[[\"time\"]].to_numpy() #array of strings\n",
    "H = H_string.astype(float) #array of floats\n",
    "\n",
    "\n",
    "plt.plot(time,z)\n",
    "plt.ylabel('<z>')\n",
    "plt.xlabel('time')\n",
    "plt.savefig('expect_z.pdf')\n",
    "plt.show()\n",
    "\n",
    "plt.plot(time,H)\n",
    "plt.ylabel('<H>')\n",
    "plt.xlabel('time')\n",
    "plt.savefig('expect_H.pdf')\n",
    "plt.show()"
   ]
  },
  {
   "cell_type": "markdown",
   "metadata": {},
   "source": [
    "### Task 3: Read in file `npop.t` and analyze correlations in the data"
   ]
  },
  {
   "cell_type": "code",
   "execution_count": null,
   "metadata": {},
   "outputs": [],
   "source": [
    "# read in npop.t\n",
    "\n",
    "dir = '/tmpa/jacqueline/team3/data' \n",
    "path_npop = os.path.join(dir, 'npop.t')\n",
    "df_npop = pd.read_table(path_npop,header=None,delim_whitespace=True,skiprows=2,names=['time','MO1','MO2','MO3',\n",
    "                                                                                      'MO4','MO5','MO6','MO7',\n",
    "                                                                                      'MO8','MO9','MO10','MO11',\n",
    "                                                                                      'MO12','MO13','MO14','MO15',\n",
    "                                                                                      'MO16','MO17','MO18','MO19',\n",
    "                                                                                      'MO20','MO21','MO22','MO23', \n",
    "                                                                                      'MO24','MO25','MO26','MO27',\n",
    "                                                                                      'MO28','MO29','MO30','MO31',\n",
    "                                                                                      'MO32','MO33','MO34','MO35',\n",
    "                                                                                      'MO36','MO37','MO38'])\n",
    "\n",
    "print(df_npop)"
   ]
  },
  {
   "cell_type": "code",
   "execution_count": null,
   "metadata": {},
   "outputs": [],
   "source": [
    "# discard all columns with variance below a set threshold - we can consider them as constant\n",
    "threshold = 0.005\n",
    "index = np.linspace(1,38,38)\n",
    "tsteps = len(df_npop['time'])\n",
    "\n",
    "\n",
    "for i in range(len(index)):\n",
    "    npop_string = df_npop[['MO'+str(int(index[i]))]].to_numpy() #array of strings\n",
    "    npop = npop_string.astype(float) #array of floats\n",
    "    for t in range(tsteps):\n",
    "        if npop[t] < threshold:\n",
    "            df_npop = df_npop.drop(columns='MO'+str(int(index[i])))\n",
    "            break\n",
    "        else:\n",
    "            continue\n",
    "\n",
    "print(df_npop)      "
   ]
  },
  {
   "cell_type": "markdown",
   "metadata": {},
   "source": [
    "Plot the remaining columns. Seaborn prefers \"long format\" (one column for all measurement values, one column to indicate the type) as input, whereas the cvs is in \"wide format\" (one column per measurement type)."
   ]
  },
  {
   "cell_type": "code",
   "execution_count": null,
   "metadata": {},
   "outputs": [],
   "source": [
    "# plot ideally with seaborn\n",
    "\n",
    "df_npop_plot = df_npop.melt('time', var_name='columns',  value_name='MO')\n",
    "plots = sns.catplot(x=\"time\", y=\"MO\", hue='columns', data=df_npop_plot)"
   ]
  },
  {
   "cell_type": "markdown",
   "metadata": {},
   "source": [
    "## Quantify the pairwise correlation in the data\n",
    "\n",
    "- negative correlation: y values decrease for increasing x - large values of one feature correspond to small values of the other feature\n",
    "- weak or no correlation: no trend observable, association between two features is hardly observable\n",
    "- positive correlation: y values increase for decreasing x - small values of one feature correspond to small values of the other feature\n",
    "\n",
    "Remember that correlation does not indicate causation - the reason that two features are associated can lie in their dependence on same factors.\n",
    "\n",
    "Correlate the value pairs using Pearson's $r$. Pearson's $r$ is a measure of the linear relationship between features:\n",
    "\n",
    "$r = \\frac{\\sum_i(x_i − \\bar{x})(y_i − \\bar{y})}{\\sqrt{\\sum_i(x_i − \\bar{x})^2 \\sum_i(y_i − \\bar{y})^2}}$\n",
    "\n",
    "Here, $\\bar{x}$ and $\\bar{y}$ indicate mean values. $i$ runs over the whole data set. For a positive correlation, $r$ is positive, and negative for a negative correlation, with minimum and maximum values of -1 and 1, indicating a perfectly linear relationship. Weakly or not correlated features are characterized by $r$-values close to 0.\n",
    "\n",
    "Other measures of correlation that can be used are Spearman's rank (value pairs follow monotonic function) or Kendall's $\\tau$ (measures ordinal association), but they do not apply here. You can also define measures yourself."
   ]
  },
  {
   "cell_type": "code",
   "execution_count": null,
   "metadata": {},
   "outputs": [],
   "source": [
    "# print the correlation matrix\n",
    "print(df_npop.corr())"
   ]
  },
  {
   "cell_type": "markdown",
   "metadata": {},
   "source": [
    "The diagonal values tell us that each value is perfectly correlated with itself. We are not interested in the diagonal values and also not in the correlation with time. We also need to get rid of redundant entries. Finally, we need to find the value pairs that exhibit the highest linear correlation. We still want to know if it is positive or negative correlation, so we cannot get rid of the sign."
   ]
  },
  {
   "cell_type": "code",
   "execution_count": null,
   "metadata": {},
   "outputs": [],
   "source": [
    "# get rid of time column, lower triangular and diagonal entries of the correlation matrix\n",
    "df_npop = df_npop.drop(columns=['time'])\n",
    "df_npop_corr = df_npop.corr()\n",
    "\n",
    "df_npop_corr_np = np.triu(df_npop_corr,k=1)\n",
    "df_npop_corr = pd.DataFrame(data = df_npop_corr_np)\n",
    "print(df_npop_corr)\n",
    "\n",
    "# sort the remaing values according to their absolute value, but keep the sign\n",
    "abs_val = df_npop_corr.abs().unstack() #creates series of absolute values\n",
    "abs_val = abs_val.reset_index(drop=True) #sets default index\n",
    "abs_val = abs_val.sort_values(ascending = False) #sorts by absolute values\n",
    "index_val = abs_val.index.values  #array of indexes after sorting by absolute value\n",
    "\n",
    "df_npop_corr = df_npop_corr.unstack() #creates series of correlation matrix\n",
    "df_npop_corr = df_npop_corr.iloc[index_val] #sort values by index of abs_val\n",
    "df_npop_corr = df_npop_corr.reset_index(drop=True) #new default index\n",
    "\n",
    "numb_val = df_npop_corr.to_numpy().nonzero() #position of nonzero entries\n",
    "df_npop_corr = df_npop_corr.iloc[numb_val]  #only values belonging to the position of nonzero values\n",
    "print(df_npop_corr)\n",
    "\n",
    "\n"
   ]
  },
  {
   "cell_type": "markdown",
   "metadata": {},
   "source": [
    "Note that the entries in the left column are not repeated if they do not change from the row above (so the fourth feature pair is MO3 and MO6)."
   ]
  },
  {
   "cell_type": "markdown",
   "metadata": {},
   "source": [
    "### Task 4: Print the resulting data to a file"
   ]
  },
  {
   "cell_type": "code",
   "execution_count": null,
   "metadata": {},
   "outputs": [],
   "source": [
    "# write to file\n",
    "np.savetxt('corr.txt',df_npop_corr)"
   ]
  },
  {
   "cell_type": "markdown",
   "metadata": {},
   "source": [
    "### Task 5: Calculate the Euclidean distance (L2 norm) for the vectors in `table.dat`\n",
    "\n",
    "\n",
    "The Euclidean distance measures the distance between to objects that are not points:\n",
    "\n",
    "$d(p,q) = \\sqrt{\\left(p-q\\right)^2}$\n",
    "\n",
    "In this case, consider each of the columns in table.dat as a vector in Euclidean space, where column $r(x)$ and column $v(x)$ denote a pair of vectors that should be compared, as well as $r(y)$ and $v(y)$, and r(z) and v(z).\n",
    "\n",
    "(Background: These are dipole moment components in different gauges, the length and velocity gauge.)"
   ]
  },
  {
   "cell_type": "code",
   "execution_count": null,
   "metadata": {},
   "outputs": [],
   "source": [
    "# read in table.dat - I suggest reading it as a numpy array\n",
    "# replace the NaNs by zero"
   ]
  },
  {
   "cell_type": "markdown",
   "metadata": {},
   "source": [
    "Now calculate how different the vectors in column 2 are from column 3, column 4 from column 5, and column 6 from column 7."
   ]
  },
  {
   "cell_type": "code",
   "execution_count": null,
   "metadata": {},
   "outputs": [],
   "source": [
    "# calculate the Euclidean distance"
   ]
  },
  {
   "cell_type": "code",
   "execution_count": null,
   "metadata": {},
   "outputs": [],
   "source": [
    "# plot the result and save to a .pdf"
   ]
  },
  {
   "cell_type": "code",
   "execution_count": null,
   "metadata": {},
   "outputs": [],
   "source": [
    "# print the result to a file"
   ]
  },
  {
   "cell_type": "markdown",
   "metadata": {},
   "source": [
    "# Numerical analysis\n",
    "\n",
    "Analyze the data using autocorrelation functions and discrete Fourier transforms. Plot your results."
   ]
  },
  {
   "cell_type": "code",
   "execution_count": null,
   "metadata": {},
   "outputs": [],
   "source": [
    "# define some global functions\n",
    "import array\n",
    "import numpy as np\n",
    "import pandas as pd\n",
    "from matplotlib import pyplot as plt\n",
    "from scipy.fftpack import fft, fftshift\n",
    "\n",
    "from numpy import *"
   ]
  },
  {
   "cell_type": "markdown",
   "metadata": {},
   "source": [
    "### Task 1: Read in `efield.t` and Fourier-transform relevant columns"
   ]
  },
  {
   "cell_type": "code",
   "execution_count": null,
   "metadata": {},
   "outputs": [],
   "source": [
    "# read and plot efield.t\n",
    "dt=0.1\n",
    "t_fin=10\n",
    "t_grid=int(t_fin/dt+1)\n",
    "\n",
    "dat_ef = zeros([3,t_grid])\n",
    "\n",
    "dir = '/home/gomezj/PhD/2021_Art_SSD/team3/data/efield.t' \n",
    "ptemp=pd.read_csv(dir,'\\s+',header=None,skiprows=1)\n",
    "\n",
    "for i in (0,1,2):\n",
    "    dat_ef[i]=ptemp[i+1].values"
   ]
  },
  {
   "cell_type": "code",
   "execution_count": null,
   "metadata": {},
   "outputs": [],
   "source": [
    "t1=arange(0,t_fin+dt,dt)\n",
    "\n",
    "plt.plot(t1,dat_ef[1])\n",
    "plt.ylabel('<y>')\n",
    "plt.xlabel('time')\n",
    "plt.show()"
   ]
  },
  {
   "cell_type": "markdown",
   "metadata": {},
   "source": [
    "Here we are interested in column 2 since the others are constant."
   ]
  },
  {
   "cell_type": "code",
   "execution_count": null,
   "metadata": {},
   "outputs": [],
   "source": [
    "# discard the columns with variance below threshold - these are considered constant\n",
    "thr1=0.0001\n",
    "\n",
    "useless=(dat_ef < thr1).all(axis=1)\n",
    "\n",
    "for i in range(len(useless)):\n",
    "    if useless[i]==True:\n",
    "        dat_ef=np.delete(dat_ef,i)"
   ]
  },
  {
   "cell_type": "code",
   "execution_count": null,
   "metadata": {},
   "outputs": [],
   "source": [
    "# discrete Fourier transform of the remaining column: You only need the real frequencies\n",
    "FT_in=fft.fft(dat_ef)\n",
    "FT_fq=fft.fftfreq(len(dat_ef))"
   ]
  },
  {
   "cell_type": "markdown",
   "metadata": {},
   "source": [
    "### Task 2: Generate a plot of your results to be saved as pdf."
   ]
  },
  {
   "cell_type": "code",
   "execution_count": null,
   "metadata": {},
   "outputs": [],
   "source": [
    "# plot your results\n",
    "plt.plot(FT_fq,abs(FT_in)**2)\n",
    "plt.xlim(0.0,0.4)\n",
    "plt.ylabel('FFT')\n",
    "plt.xlabel('Frecuency')\n",
    "plt.show()\n",
    "\n",
    "#plt.savefig('FFT_ef.pdf', dpi=600,bbox_inches='tight')    "
   ]
  },
  {
   "cell_type": "markdown",
   "metadata": {},
   "source": [
    "### Task 3: Calculate the autocorrelation function from nstate_i.t\n",
    "The autocorrelation function measures how correlated subsequent vectors are with an initial vector; ie. \n",
    "\n",
    "$\\Psi_{corr} = \\langle \\Psi(t=0) | \\Psi(t) \\rangle = \\int_0^{tfin} \\Psi(0)^* \\Psi(t) dt$\n",
    "\n",
    "Since we are in a numerical representation, the integral can be replaced with a sum; and the given vectors are already normalized."
   ]
  },
  {
   "cell_type": "code",
   "execution_count": null,
   "metadata": {},
   "outputs": [],
   "source": [
    "# read in as numpy array\n",
    "dir1 = '/home/gomezj/PhD/2021_Art_SSD/team3/data/nstate_i.t' \n",
    "\n",
    "dat_nst=np.loadtxt(dir1,skiprows=1)\n",
    "dat_nst=dat_nst.T"
   ]
  },
  {
   "cell_type": "code",
   "execution_count": null,
   "metadata": {},
   "outputs": [],
   "source": [
    "# store the time column (column 0) in a vector and drop from array\n",
    "time_vc=zeros([len(dat_nst[0])])\n",
    "time_vc=dat_nst[:,0]    \n",
    "\n",
    "dat_nst=np.delete(dat_nst,[0],axis=0)"
   ]
  },
  {
   "cell_type": "code",
   "execution_count": null,
   "metadata": {},
   "outputs": [],
   "source": [
    "# correct the data representation: this is in fact a complex matrix\n",
    "# the real part of each matrix column is contained in numpy array column 0, 2, 4, 6, ...\n",
    "# the imaginary part of each matrix column is contained in numpy array column 1, 3, 5, 7, ...\n",
    "# convert the array that was read as dtype=float into a dtype=complex array\n",
    "\n",
    "t2_wf=len(dat_nst[:,0])\n",
    "t_wf=int(t2_wf/2)\n",
    "p_wf=len(dat_nst[0])\n",
    "\n",
    "comp_vc=zeros([t_wf,p_wf],dtype=np.complex_)\n",
    "\n",
    "for t in range(t_wf):\n",
    "    comp_vc[t]=dat_nst[t*2] + dat_nst[1+t*2]*1j    "
   ]
  },
  {
   "cell_type": "code",
   "execution_count": null,
   "metadata": {},
   "outputs": [],
   "source": [
    "# for the autocorrelation function, we want the overlap between the first vector at time 0 and all \n",
    "# subsequent vectors at later times - the sum of the product of initial and subsequent vectors for each time step\n",
    "\n",
    "ac_fc1=zeros([p_wf,t_wf+1],dtype=np.complex_)\n",
    "\n",
    "for n in range(p_wf):\n",
    "    ac_fc1[n]=np.sum(comp_vc[:,0]*np.conjugate(comp_vc[:,n]))"
   ]
  },
  {
   "cell_type": "code",
   "execution_count": null,
   "metadata": {},
   "outputs": [],
   "source": [
    "# plot the autocorrelation function - real, imaginary and absolute part\n",
    "\n",
    "fig, ax = plt.subplots(1,3,figsize=(15,4))\n",
    "ax[0].plot(np.real(ac_fc1))\n",
    "ax[1].plot(np.imag(ac_fc1))\n",
    "ax[2].plot(abs(ac_fc1**2))\n",
    "\n",
    "ax[0].set_ylabel('Real Part')\n",
    "ax[1].set_ylabel('Imaginary Part')\n",
    "ax[2].set_ylabel('Absolute Part')\n",
    "\n",
    "for i in range(3):\n",
    "    ax[i].set_xlabel('Time')\n",
    "plt.show()"
   ]
  },
  {
   "cell_type": "markdown",
   "metadata": {},
   "source": [
    "### Task 4: Generate a plot of your results to be saved as pdf."
   ]
  },
  {
   "cell_type": "markdown",
   "metadata": {},
   "source": [
    "### Task 5: Discrete Fourier transform of the autocorrelation function"
   ]
  },
  {
   "cell_type": "code",
   "execution_count": null,
   "metadata": {},
   "outputs": [],
   "source": [
    "# discrete Fourier-transform the autocorrelation function - now we need all frequency components, \n",
    "# also the negative ones"
   ]
  },
  {
   "cell_type": "markdown",
   "metadata": {},
   "source": [
    "### Task 6: Generate a plot of your results to be saved as pdf."
   ]
  },
  {
   "cell_type": "code",
   "execution_count": null,
   "metadata": {},
   "outputs": [],
   "source": [
    "# plot the power spectrum (abs**2)"
   ]
  }
 ],
 "metadata": {
  "kernelspec": {
   "display_name": "Python 3",
   "language": "python",
   "name": "python3"
  },
  "language_info": {
   "codemirror_mode": {
    "name": "ipython",
    "version": 3
   },
   "file_extension": ".py",
   "mimetype": "text/x-python",
   "name": "python",
   "nbconvert_exporter": "python",
   "pygments_lexer": "ipython3",
   "version": "3.8.5"
  }
 },
 "nbformat": 4,
 "nbformat_minor": 4
}
